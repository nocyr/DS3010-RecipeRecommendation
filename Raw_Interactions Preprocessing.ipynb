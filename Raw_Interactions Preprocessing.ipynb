{
 "cells": [
  {
   "cell_type": "code",
   "execution_count": 1,
   "id": "c3b24edd",
   "metadata": {},
   "outputs": [],
   "source": [
    "# work done by Noah Cyr"
   ]
  },
  {
   "cell_type": "code",
   "execution_count": 2,
   "id": "d1f4f347",
   "metadata": {},
   "outputs": [],
   "source": [
    "# necessary imports\n",
    "import pandas as pd\n",
    "import numpy as np\n",
    "import matplotlib.pyplot as plt"
   ]
  },
  {
   "cell_type": "code",
   "execution_count": 3,
   "id": "0fca304e",
   "metadata": {},
   "outputs": [],
   "source": [
    "# read the raw interactions dataset\n",
    "df_raw_i = pd.read_csv('RAW_interactions.csv')"
   ]
  },
  {
   "cell_type": "code",
   "execution_count": 4,
   "id": "f9ec6955",
   "metadata": {},
   "outputs": [
    {
     "data": {
      "text/html": [
       "<div>\n",
       "<style scoped>\n",
       "    .dataframe tbody tr th:only-of-type {\n",
       "        vertical-align: middle;\n",
       "    }\n",
       "\n",
       "    .dataframe tbody tr th {\n",
       "        vertical-align: top;\n",
       "    }\n",
       "\n",
       "    .dataframe thead th {\n",
       "        text-align: right;\n",
       "    }\n",
       "</style>\n",
       "<table border=\"1\" class=\"dataframe\">\n",
       "  <thead>\n",
       "    <tr style=\"text-align: right;\">\n",
       "      <th></th>\n",
       "      <th>user_id</th>\n",
       "      <th>recipe_id</th>\n",
       "      <th>date</th>\n",
       "      <th>rating</th>\n",
       "      <th>review</th>\n",
       "    </tr>\n",
       "  </thead>\n",
       "  <tbody>\n",
       "    <tr>\n",
       "      <th>0</th>\n",
       "      <td>38094</td>\n",
       "      <td>40893</td>\n",
       "      <td>2003-02-17</td>\n",
       "      <td>4</td>\n",
       "      <td>Great with a salad. Cooked on top of stove for...</td>\n",
       "    </tr>\n",
       "    <tr>\n",
       "      <th>1</th>\n",
       "      <td>1293707</td>\n",
       "      <td>40893</td>\n",
       "      <td>2011-12-21</td>\n",
       "      <td>5</td>\n",
       "      <td>So simple, so delicious! Great for chilly fall...</td>\n",
       "    </tr>\n",
       "    <tr>\n",
       "      <th>2</th>\n",
       "      <td>8937</td>\n",
       "      <td>44394</td>\n",
       "      <td>2002-12-01</td>\n",
       "      <td>4</td>\n",
       "      <td>This worked very well and is EASY.  I used not...</td>\n",
       "    </tr>\n",
       "    <tr>\n",
       "      <th>3</th>\n",
       "      <td>126440</td>\n",
       "      <td>85009</td>\n",
       "      <td>2010-02-27</td>\n",
       "      <td>5</td>\n",
       "      <td>I made the Mexican topping and took it to bunk...</td>\n",
       "    </tr>\n",
       "    <tr>\n",
       "      <th>4</th>\n",
       "      <td>57222</td>\n",
       "      <td>85009</td>\n",
       "      <td>2011-10-01</td>\n",
       "      <td>5</td>\n",
       "      <td>Made the cheddar bacon topping, adding a sprin...</td>\n",
       "    </tr>\n",
       "    <tr>\n",
       "      <th>...</th>\n",
       "      <td>...</td>\n",
       "      <td>...</td>\n",
       "      <td>...</td>\n",
       "      <td>...</td>\n",
       "      <td>...</td>\n",
       "    </tr>\n",
       "    <tr>\n",
       "      <th>1132362</th>\n",
       "      <td>116593</td>\n",
       "      <td>72730</td>\n",
       "      <td>2003-12-09</td>\n",
       "      <td>0</td>\n",
       "      <td>Another approach is to start making sauce with...</td>\n",
       "    </tr>\n",
       "    <tr>\n",
       "      <th>1132363</th>\n",
       "      <td>583662</td>\n",
       "      <td>386618</td>\n",
       "      <td>2009-09-29</td>\n",
       "      <td>5</td>\n",
       "      <td>These were so delicious!  My husband and I tru...</td>\n",
       "    </tr>\n",
       "    <tr>\n",
       "      <th>1132364</th>\n",
       "      <td>157126</td>\n",
       "      <td>78003</td>\n",
       "      <td>2008-06-23</td>\n",
       "      <td>5</td>\n",
       "      <td>WOW!  Sometimes I don't take the time to rate ...</td>\n",
       "    </tr>\n",
       "    <tr>\n",
       "      <th>1132365</th>\n",
       "      <td>53932</td>\n",
       "      <td>78003</td>\n",
       "      <td>2009-01-11</td>\n",
       "      <td>4</td>\n",
       "      <td>Very good!  I used regular port as well.  The ...</td>\n",
       "    </tr>\n",
       "    <tr>\n",
       "      <th>1132366</th>\n",
       "      <td>2001868099</td>\n",
       "      <td>78003</td>\n",
       "      <td>2017-12-18</td>\n",
       "      <td>5</td>\n",
       "      <td>I am so glad I googled and found this here. Th...</td>\n",
       "    </tr>\n",
       "  </tbody>\n",
       "</table>\n",
       "<p>1132367 rows × 5 columns</p>\n",
       "</div>"
      ],
      "text/plain": [
       "            user_id  recipe_id        date  rating  \\\n",
       "0             38094      40893  2003-02-17       4   \n",
       "1           1293707      40893  2011-12-21       5   \n",
       "2              8937      44394  2002-12-01       4   \n",
       "3            126440      85009  2010-02-27       5   \n",
       "4             57222      85009  2011-10-01       5   \n",
       "...             ...        ...         ...     ...   \n",
       "1132362      116593      72730  2003-12-09       0   \n",
       "1132363      583662     386618  2009-09-29       5   \n",
       "1132364      157126      78003  2008-06-23       5   \n",
       "1132365       53932      78003  2009-01-11       4   \n",
       "1132366  2001868099      78003  2017-12-18       5   \n",
       "\n",
       "                                                    review  \n",
       "0        Great with a salad. Cooked on top of stove for...  \n",
       "1        So simple, so delicious! Great for chilly fall...  \n",
       "2        This worked very well and is EASY.  I used not...  \n",
       "3        I made the Mexican topping and took it to bunk...  \n",
       "4        Made the cheddar bacon topping, adding a sprin...  \n",
       "...                                                    ...  \n",
       "1132362  Another approach is to start making sauce with...  \n",
       "1132363  These were so delicious!  My husband and I tru...  \n",
       "1132364  WOW!  Sometimes I don't take the time to rate ...  \n",
       "1132365  Very good!  I used regular port as well.  The ...  \n",
       "1132366  I am so glad I googled and found this here. Th...  \n",
       "\n",
       "[1132367 rows x 5 columns]"
      ]
     },
     "execution_count": 4,
     "metadata": {},
     "output_type": "execute_result"
    }
   ],
   "source": [
    "# display datset\n",
    "df_raw_i"
   ]
  },
  {
   "cell_type": "code",
   "execution_count": 5,
   "id": "d23950e2",
   "metadata": {
    "scrolled": true
   },
   "outputs": [
    {
     "name": "stdout",
     "output_type": "stream",
     "text": [
      "user_id       int64\n",
      "recipe_id     int64\n",
      "date         object\n",
      "rating        int64\n",
      "review       object\n",
      "dtype: object\n"
     ]
    }
   ],
   "source": [
    "# check data types\n",
    "print(df_raw_i.dtypes)"
   ]
  },
  {
   "cell_type": "code",
   "execution_count": 6,
   "id": "334ec155",
   "metadata": {
    "scrolled": true
   },
   "outputs": [
    {
     "name": "stdout",
     "output_type": "stream",
     "text": [
      "user_id        0\n",
      "recipe_id      0\n",
      "date           0\n",
      "rating         0\n",
      "review       169\n",
      "dtype: int64\n"
     ]
    }
   ],
   "source": [
    "# check for null values\n",
    "null_counts = df_raw_i.isnull().sum()\n",
    "\n",
    "print(null_counts)"
   ]
  },
  {
   "cell_type": "code",
   "execution_count": 7,
   "id": "643f7026",
   "metadata": {},
   "outputs": [],
   "source": [
    "# removing rows with a no value in review column\n",
    "df_raw_i.dropna(subset=['review'], inplace=True)"
   ]
  },
  {
   "cell_type": "code",
   "execution_count": 8,
   "id": "5a6e92e4",
   "metadata": {
    "scrolled": true
   },
   "outputs": [
    {
     "name": "stdout",
     "output_type": "stream",
     "text": [
      "user_id      0\n",
      "recipe_id    0\n",
      "date         0\n",
      "rating       0\n",
      "review       0\n",
      "dtype: int64\n"
     ]
    }
   ],
   "source": [
    "# verify nulls were removed\n",
    "null_counts = df_raw_i.isnull().sum()\n",
    "\n",
    "print(null_counts)"
   ]
  },
  {
   "cell_type": "code",
   "execution_count": 9,
   "id": "b3d45f67",
   "metadata": {},
   "outputs": [
    {
     "data": {
      "image/png": "[encoded data removed]",
      "text/plain": [
       "<Figure size 1000x600 with 1 Axes>"
      ]
     },
     "metadata": {},
     "output_type": "display_data"
    }
   ],
   "source": [
    "# more imports for graphing\n",
    "from datetime import datetime\n",
    "from PIL import Image\n",
    "\n",
    "df_raw_i['date'] = pd.to_datetime(df_raw_i['date']) #convert date column into datetime data type\n",
    "frequencies_date = df_raw_i['date'].value_counts().sort_index() #get frequency of reviews by date\n",
    "\n",
    "# Plot the bar chart\n",
    "plt.figure(figsize=(10, 6))\n",
    "plt.bar(frequencies_date.index, frequencies_date.values, color='skyblue')\n",
    "\n",
    "# Rotate date labels for better visibility\n",
    "plt.xticks(rotation=45)\n",
    "\n",
    "# Add labels and title\n",
    "plt.xlabel('Date')\n",
    "plt.ylabel('Frequency')\n",
    "plt.title('Reviews by Date')\n",
    "\n",
    "# Display the plot\n",
    "plt.tight_layout()\n",
    "plt.show()"
   ]
  },
  {
   "cell_type": "code",
   "execution_count": 10,
   "id": "25601ba2",
   "metadata": {
    "scrolled": true
   },
   "outputs": [
    {
     "data": {
      "image/png": "[encoded data removed]",
      "text/plain": [
       "<Figure size 1000x600 with 1 Axes>"
      ]
     },
     "metadata": {},
     "output_type": "display_data"
    }
   ],
   "source": [
    "frequencies_rating = df_raw_i['rating'].value_counts().sort_index() #get frequency of reviews in each rating\n",
    "\n",
    "# Plot the bar chart\n",
    "plt.figure(figsize=(10, 6))\n",
    "plt.bar(frequencies_rating.index, frequencies_rating.values, color='skyblue')\n",
    "\n",
    "# Add labels and title\n",
    "plt.xlabel('Rating')\n",
    "plt.ylabel('Frequency')\n",
    "plt.title('Reviews by Rating')\n",
    "\n",
    "# Display the plot\n",
    "plt.tight_layout()\n",
    "plt.show()"
   ]
  },
  {
   "cell_type": "code",
   "execution_count": 11,
   "id": "90bf9e7e",
   "metadata": {},
   "outputs": [
    {
     "name": "stdout",
     "output_type": "stream",
     "text": [
      "1132198\n"
     ]
    }
   ],
   "source": [
    "# find the total number of reviews\n",
    "print(len(df_raw_i))"
   ]
  },
  {
   "cell_type": "code",
   "execution_count": 12,
   "id": "ff6d9a32",
   "metadata": {},
   "outputs": [
    {
     "name": "stdout",
     "output_type": "stream",
     "text": [
      "Percentage 0 Stars: 5.37%\n",
      "Percentage 1 Stars: 1.13%\n",
      "Percentage 2 Stars: 1.25%\n",
      "Percentage 3 Stars: 3.61%\n",
      "Percentage 4 Stars: 16.55%\n",
      "Percentage 5 Stars: 72.09%\n"
     ]
    }
   ],
   "source": [
    "num_entries = len(df_raw_i) #declare the total number of reviews as the number of entries\n",
    "\n",
    "# create dataframes of the recipes by each rating given\n",
    "df_0star = df_raw_i.loc[df_raw_i['rating'] == 0]\n",
    "df_1star = df_raw_i.loc[df_raw_i['rating'] == 1]\n",
    "df_2star = df_raw_i.loc[df_raw_i['rating'] == 2]\n",
    "df_3star = df_raw_i.loc[df_raw_i['rating'] == 3]\n",
    "df_4star = df_raw_i.loc[df_raw_i['rating'] == 4]\n",
    "df_5star = df_raw_i.loc[df_raw_i['rating'] == 5]\n",
    "\n",
    "# calculate the percentages for each rating \n",
    "p_zero_star_cnt = len(df_0star)/num_entries\n",
    "p_one_star_cnt = len(df_1star)/num_entries\n",
    "p_two_star_cnt = len(df_2star)/num_entries\n",
    "p_three_star_cnt = len(df_3star)/num_entries\n",
    "p_four_star_cnt = len(df_4star)/num_entries\n",
    "p_five_star_cnt = len(df_5star)/num_entries\n",
    "\n",
    "# print percentages\n",
    "print(\"Percentage 0 Stars:\", f\"{p_zero_star_cnt:.2%}\")\n",
    "print(\"Percentage 1 Stars:\", f\"{p_one_star_cnt:.2%}\")\n",
    "print(\"Percentage 2 Stars:\", f\"{p_two_star_cnt:.2%}\")\n",
    "print(\"Percentage 3 Stars:\", f\"{p_three_star_cnt:.2%}\")\n",
    "print(\"Percentage 4 Stars:\", f\"{p_four_star_cnt:.2%}\")\n",
    "print(\"Percentage 5 Stars:\", f\"{p_five_star_cnt:.2%}\")"
   ]
  },
  {
   "cell_type": "code",
   "execution_count": 13,
   "id": "d73602fa",
   "metadata": {},
   "outputs": [],
   "source": [
    "# SENTIMENT ANALYSIS\n",
    "from textblob import TextBlob #import TextBlob\n",
    "\n",
    "# list to store sentiment scores to find average of each rating\n",
    "s_scores_zero = []\n",
    "s_scores_one = []\n",
    "s_scores_two = []\n",
    "s_scores_three = []\n",
    "s_scores_four = []\n",
    "s_scores_five = []\n",
    "\n",
    "  \n",
    "#sentiment = \"Positive\" if sentiment_score > 0, else if \"Negative\" if sentiment_score < 0, else \"Neutral\""
   ]
  },
  {
   "cell_type": "code",
   "execution_count": 14,
   "id": "73d5b9cf",
   "metadata": {},
   "outputs": [],
   "source": [
    "# loop over 0 star reviews, perform sentiment analysis, and store the sentiment score\n",
    "for review in df_0star['review']:\n",
    "    analysis = TextBlob(review) # Perform sentiment analysis\n",
    "    sentiment_score = analysis.sentiment.polarity # Range: [-1.0, 1.0]\n",
    "    s_scores_zero.append(sentiment_score) # store sentiment score"
   ]
  },
  {
   "cell_type": "code",
   "execution_count": 15,
   "id": "7193beae",
   "metadata": {},
   "outputs": [
    {
     "name": "stdout",
     "output_type": "stream",
     "text": [
      "Worst pie baked in the continental United States since I can recall. Tasked like skilly-winks, if you've had the disgrace of having known the flavor.\n",
      "-1.0\n"
     ]
    }
   ],
   "source": [
    "bad_review = \"\" #worst review variable\n",
    "current_sentiment_2 = 1 #worst review sentiment variable\n",
    "\n",
    "# loop over 1 star reviews, perform sentiment analysis, and store the sentiment score\n",
    "# also find a 1 star review with the worst sentiment score\n",
    "for review in df_1star['review']:\n",
    "    analysis = TextBlob(review) # Perform sentiment analysis\n",
    "    sentiment_score = analysis.sentiment.polarity # Range: [-1.0, 1.0]\n",
    "    s_scores_one.append(sentiment_score) # store sentiment score\n",
    "    if (sentiment_score < current_sentiment_2): #if this sentiment score is worse than the current worse sentiment\n",
    "        current_sentiment_2 = sentiment_score #replace the current sentiment with this new one\n",
    "        bad_review = review #replace the current worse review with this new review\n",
    "\n",
    "print(bad_review)\n",
    "print(current_sentiment_2)"
   ]
  },
  {
   "cell_type": "code",
   "execution_count": 16,
   "id": "e8228b66",
   "metadata": {},
   "outputs": [],
   "source": [
    "# loop over 2 star reviews, perform sentiment analysis, and store the sentiment score\n",
    "for review in df_2star['review']:\n",
    "    analysis = TextBlob(review) # Perform sentiment analysis\n",
    "    sentiment_score = analysis.sentiment.polarity # Range: [-1.0, 1.0]\n",
    "    s_scores_two.append(sentiment_score) # store sentiment score"
   ]
  },
  {
   "cell_type": "code",
   "execution_count": 17,
   "id": "c1522f8c",
   "metadata": {},
   "outputs": [],
   "source": [
    "# loop over 3 star reviews, perform sentiment analysis, and store the sentiment score\n",
    "for review in df_3star['review']:\n",
    "    analysis = TextBlob(review) # Perform sentiment analysis\n",
    "    sentiment_score = analysis.sentiment.polarity # Range: [-1.0, 1.0]\n",
    "    s_scores_three.append(sentiment_score) # store sentiment score"
   ]
  },
  {
   "cell_type": "code",
   "execution_count": 18,
   "id": "2b61968e",
   "metadata": {},
   "outputs": [],
   "source": [
    "# loop over 4 star reviews, perform sentiment analysis, and store the sentiment score\n",
    "for review in df_4star['review']:\n",
    "    analysis = TextBlob(review) # Perform sentiment analysis\n",
    "    sentiment_score = analysis.sentiment.polarity # Range: [-1.0, 1.0]\n",
    "    s_scores_four.append(sentiment_score) # store sentiment score"
   ]
  },
  {
   "cell_type": "code",
   "execution_count": 19,
   "id": "c17a9d4e",
   "metadata": {},
   "outputs": [],
   "source": [
    "# loop over 5 star reviews, perform sentiment analysis, and store the sentiment score\n",
    "for review in df_5star['review']:\n",
    "    analysis = TextBlob(review) # Perform sentiment analysis\n",
    "    sentiment_score = analysis.sentiment.polarity # Range: [-1.0, 1.0]\n",
    "    s_scores_five.append(sentiment_score) # store sentiment score"
   ]
  },
  {
   "cell_type": "code",
   "execution_count": 20,
   "id": "0c606f5f",
   "metadata": {},
   "outputs": [
    {
     "name": "stdout",
     "output_type": "stream",
     "text": [
      "Average Sentiment of 0 Star Reviews: 0.2622\n",
      "Average Sentiment of 1 Star Reviews: -0.0190\n",
      "Average Sentiment of 2 Star Reviews: 0.0998\n",
      "Average Sentiment of 3 Star Reviews: 0.1965\n",
      "Average Sentiment of 4 Star Reviews: 0.2919\n",
      "Average Sentiment of 5 Star Reviews: 0.3640\n"
     ]
    }
   ],
   "source": [
    "# Finding the average sentiment of review of each rating \n",
    "zero_avg = sum(s_scores_zero)/len(s_scores_zero) #0 stars\n",
    "one_avg = sum(s_scores_one)/len(s_scores_one) #1 stars\n",
    "two_avg = sum(s_scores_two)/len(s_scores_two) #2 stars\n",
    "three_avg = sum(s_scores_three)/len(s_scores_three) #3 stars\n",
    "four_avg = sum(s_scores_four)/len(s_scores_four) #4 stars\n",
    "five_avg = sum(s_scores_five)/len(s_scores_five) #5 stars\n",
    "\n",
    "# Pint the average scores of each rating (formatted)\n",
    "print(\"Average Sentiment of 0 Star Reviews:\", f\"{zero_avg:.4f}\")\n",
    "print(\"Average Sentiment of 1 Star Reviews:\", f\"{one_avg:.4f}\")\n",
    "print(\"Average Sentiment of 2 Star Reviews:\", f\"{two_avg:.4f}\")\n",
    "print(\"Average Sentiment of 3 Star Reviews:\", f\"{three_avg:.4f}\")\n",
    "print(\"Average Sentiment of 4 Star Reviews:\", f\"{four_avg:.4f}\")\n",
    "print(\"Average Sentiment of 5 Star Reviews:\", f\"{five_avg:.4f}\")"
   ]
  },
  {
   "cell_type": "code",
   "execution_count": 21,
   "id": "9087c56e",
   "metadata": {},
   "outputs": [
    {
     "name": "stdout",
     "output_type": "stream",
     "text": [
      "0.6783333333333333\n"
     ]
    }
   ],
   "source": [
    "# sentiment analysis for second review in slideshow\n",
    "# review\n",
    "text1 = \"Excellent and easy! The flavors blended together nicely with a nice Asian-American flare - even my children gobbled this up, veggies and all! I served with springrolls (frozen). Enjoy!\"\n",
    "\n",
    "analysis = TextBlob(text1) #perform sentiment analysis\n",
    "sentiment_score = analysis.sentiment.polarity # Range: [-1.0, 1.0]\n",
    "print(sentiment_score)"
   ]
  },
  {
   "cell_type": "code",
   "execution_count": null,
   "id": "17c220da",
   "metadata": {},
   "outputs": [],
   "source": []
  }
 ],
 "metadata": {
  "kernelspec": {
   "display_name": "Python 3 (ipykernel)",
   "language": "python",
   "name": "python3"
  },
  "language_info": {
   "codemirror_mode": {
    "name": "ipython",
    "version": 3
   },
   "file_extension": ".py",
   "mimetype": "text/x-python",
   "name": "python",
   "nbconvert_exporter": "python",
   "pygments_lexer": "ipython3",
   "version": "3.9.13"
  }
 },
 "nbformat": 4,
 "nbformat_minor": 5
}
